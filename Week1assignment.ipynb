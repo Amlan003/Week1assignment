{
 "cells": [
  {
   "cell_type": "code",
   "execution_count": 1,
   "id": "e3825891-c6f7-48da-8ccb-da2ddc32e068",
   "metadata": {},
   "outputs": [],
   "source": [
    "My_string = \"Hello World\"\n"
   ]
  },
  {
   "cell_type": "code",
   "execution_count": 2,
   "id": "5238dad6-9801-48f0-86fb-38aeea8853b3",
   "metadata": {},
   "outputs": [
    {
     "name": "stdout",
     "output_type": "stream",
     "text": [
      "Hello World\n"
     ]
    }
   ],
   "source": [
    "print(My_string)"
   ]
  },
  {
   "cell_type": "code",
   "execution_count": 3,
   "id": "20967d46-75b3-4499-9044-2831ffc29609",
   "metadata": {},
   "outputs": [],
   "source": [
    "My_list = [1,2,3,4,5,\"Amlan\"]"
   ]
  },
  {
   "cell_type": "code",
   "execution_count": 4,
   "id": "20b73c49-9d06-4ff5-a2c5-806b107599ae",
   "metadata": {},
   "outputs": [
    {
     "name": "stdout",
     "output_type": "stream",
     "text": [
      "[1, 2, 3, 4, 5, 'Amlan']\n"
     ]
    }
   ],
   "source": [
    "print(My_list)"
   ]
  },
  {
   "cell_type": "code",
   "execution_count": 6,
   "id": "1a8a2ea4-8b51-4494-ba44-b548d6f7cea4",
   "metadata": {},
   "outputs": [],
   "source": [
    "My_float = 5458.851"
   ]
  },
  {
   "cell_type": "code",
   "execution_count": 7,
   "id": "818dcda0-e837-4332-acd4-e0e79488f560",
   "metadata": {},
   "outputs": [
    {
     "name": "stdout",
     "output_type": "stream",
     "text": [
      "5458.851\n"
     ]
    }
   ],
   "source": [
    "print(My_float)"
   ]
  },
  {
   "cell_type": "code",
   "execution_count": 9,
   "id": "9dbf7978-15af-4e71-8a95-169c0c4895f6",
   "metadata": {},
   "outputs": [],
   "source": [
    "My_tuple = (3,5,54.5,\"Amlan\")"
   ]
  },
  {
   "cell_type": "code",
   "execution_count": 20,
   "id": "c4927a98-5501-4f43-b0f4-f225969b8f53",
   "metadata": {},
   "outputs": [
    {
     "name": "stdout",
     "output_type": "stream",
     "text": [
      "(3, 5, 54.5, 'Amlan')\n"
     ]
    }
   ],
   "source": [
    "print(My_tuple)"
   ]
  },
  {
   "cell_type": "code",
   "execution_count": 19,
   "id": "bc7bf43b-1b2e-45d9-8967-ccec0d9ddfdd",
   "metadata": {},
   "outputs": [],
   "source": [
    "#2"
   ]
  },
  {
   "cell_type": "code",
   "execution_count": 21,
   "id": "0cb88583-86e1-439b-a2aa-f43418eade3b",
   "metadata": {},
   "outputs": [],
   "source": [
    "var1 = ''\n",
    "\n",
    "var2 = '[DS,ML,Python]'\n",
    "\n",
    "var3 = ['DS','ML','python']\n",
    "\n",
    "var4 = 1."
   ]
  },
  {
   "cell_type": "code",
   "execution_count": 22,
   "id": "ee88b919-0d67-45dd-84a7-0e3bda3eb653",
   "metadata": {},
   "outputs": [
    {
     "data": {
      "text/plain": [
       "str"
      ]
     },
     "execution_count": 22,
     "metadata": {},
     "output_type": "execute_result"
    }
   ],
   "source": [
    "type(var1)"
   ]
  },
  {
   "cell_type": "code",
   "execution_count": 23,
   "id": "a990ffc6-d5f4-42e5-a626-f8d575364599",
   "metadata": {},
   "outputs": [
    {
     "data": {
      "text/plain": [
       "str"
      ]
     },
     "execution_count": 23,
     "metadata": {},
     "output_type": "execute_result"
    }
   ],
   "source": [
    "type(var2)"
   ]
  },
  {
   "cell_type": "code",
   "execution_count": 24,
   "id": "aef34c74-91ec-4559-ac24-6d0eeeeabfb0",
   "metadata": {},
   "outputs": [
    {
     "data": {
      "text/plain": [
       "list"
      ]
     },
     "execution_count": 24,
     "metadata": {},
     "output_type": "execute_result"
    }
   ],
   "source": [
    "type(var3)"
   ]
  },
  {
   "cell_type": "code",
   "execution_count": 25,
   "id": "893ca016-7332-4328-9316-d6de396d57f2",
   "metadata": {},
   "outputs": [
    {
     "data": {
      "text/plain": [
       "float"
      ]
     },
     "execution_count": 25,
     "metadata": {},
     "output_type": "execute_result"
    }
   ],
   "source": [
    "type(var4)"
   ]
  },
  {
   "cell_type": "code",
   "execution_count": 26,
   "id": "dcd75371-8c06-4fbb-9320-5e46412dd64e",
   "metadata": {},
   "outputs": [],
   "source": [
    "#3"
   ]
  },
  {
   "cell_type": "code",
   "execution_count": 27,
   "id": "6f1af865-5323-4a0d-9018-50954a38e240",
   "metadata": {},
   "outputs": [],
   "source": [
    "X = 35\n",
    "Y = 25"
   ]
  },
  {
   "cell_type": "code",
   "execution_count": 28,
   "id": "e8913598-27dd-44b7-b9c7-622e7d798757",
   "metadata": {},
   "outputs": [
    {
     "name": "stdout",
     "output_type": "stream",
     "text": [
      "1.4\n"
     ]
    }
   ],
   "source": [
    "print(X/Y)"
   ]
  },
  {
   "cell_type": "code",
   "execution_count": 29,
   "id": "a65b999f-f77e-49f1-800f-1bc983706d44",
   "metadata": {},
   "outputs": [
    {
     "name": "stdout",
     "output_type": "stream",
     "text": [
      "10\n"
     ]
    }
   ],
   "source": [
    "print(X%Y)"
   ]
  },
  {
   "cell_type": "code",
   "execution_count": 30,
   "id": "7eb4ae64-8a71-4c0f-8ac0-8a8baa8f355d",
   "metadata": {},
   "outputs": [
    {
     "name": "stdout",
     "output_type": "stream",
     "text": [
      "1\n"
     ]
    }
   ],
   "source": [
    "print(X//Y)"
   ]
  },
  {
   "cell_type": "code",
   "execution_count": 31,
   "id": "3d3f38eb-c859-4a82-8afc-fd78aff7dd24",
   "metadata": {},
   "outputs": [
    {
     "name": "stdout",
     "output_type": "stream",
     "text": [
      "399669593472470313551127910614013671875\n"
     ]
    }
   ],
   "source": [
    "print(X**Y)"
   ]
  },
  {
   "cell_type": "code",
   "execution_count": 32,
   "id": "4108a0c2-62c8-4bab-a602-05471231bb3d",
   "metadata": {},
   "outputs": [],
   "source": [
    "#4"
   ]
  },
  {
   "cell_type": "code",
   "execution_count": 35,
   "id": "f5830f70-79e1-4e02-ad5b-05bedb39edea",
   "metadata": {},
   "outputs": [
    {
     "name": "stdout",
     "output_type": "stream",
     "text": [
      "2 <class 'int'>\n",
      "Google <class 'str'>\n",
      "3.14 <class 'float'>\n",
      "True <class 'bool'>\n",
      "[1, 2, 3] <class 'list'>\n",
      "{'Name': 'Amlan', 'Age': 20} <class 'dict'>\n",
      "(7, 8, 9) <class 'tuple'>\n",
      "Pwskills <class 'str'>\n",
      "8.55 <class 'float'>\n"
     ]
    }
   ],
   "source": [
    "l = [2,\"Google\",3.14,True,[1,2,3],{\"Name\": \"Amlan\", \"Age\": 20},(7,8,9),\"Pwskills\",8.55]\n",
    "for x in l:\n",
    "    print(x, type(x))"
   ]
  },
  {
   "cell_type": "code",
   "execution_count": 36,
   "id": "74b86db4-3000-4545-af5d-c58b62d3b7ff",
   "metadata": {},
   "outputs": [],
   "source": [
    "#5"
   ]
  },
  {
   "cell_type": "code",
   "execution_count": 42,
   "id": "f59e73da-3360-4b2b-9c65-b3e12bad1034",
   "metadata": {},
   "outputs": [
    {
     "name": "stdout",
     "output_type": "stream",
     "text": [
      "A can be divided by B 1 times.\n"
     ]
    }
   ],
   "source": [
    "A = 35\n",
    "B = 5\n",
    "\n",
    "count = 0\n",
    "\n",
    "while A % B == 0 and A != 0:\n",
    "    A = A / B\n",
    "    count += 1\n",
    "\n",
    "print(\"A can be divided by B\", count, \"times.\")\n"
   ]
  },
  {
   "cell_type": "code",
   "execution_count": 43,
   "id": "97ab204b-2c1f-462f-bd7e-7e53b751606b",
   "metadata": {},
   "outputs": [],
   "source": [
    "#6"
   ]
  },
  {
   "cell_type": "code",
   "execution_count": 51,
   "id": "f5bc6864-4206-44fd-b8a2-4af6a3abc3fa",
   "metadata": {},
   "outputs": [
    {
     "name": "stdout",
     "output_type": "stream",
     "text": [
      "2 is not divisible by 3\n",
      "3 is divisible by 3\n",
      "6 is divisible by 3\n",
      "9 is divisible by 3\n",
      "7 is not divisible by 3\n",
      "12 is divisible by 3\n",
      "13 is not divisible by 3\n",
      "15 is divisible by 3\n",
      "17 is not divisible by 3\n",
      "18 is divisible by 3\n",
      "63 is divisible by 3\n",
      "27 is divisible by 3\n",
      "60 is divisible by 3\n",
      "72 is divisible by 3\n",
      "259 is not divisible by 3\n",
      "312 is divisible by 3\n",
      "299 is not divisible by 3\n",
      "112 is not divisible by 3\n",
      "125 is not divisible by 3\n",
      "138 is divisible by 3\n",
      "363 is divisible by 3\n",
      "372 is divisible by 3\n",
      "452 is not divisible by 3\n",
      "166 is not divisible by 3\n",
      "179 is not divisible by 3\n"
     ]
    }
   ],
   "source": [
    "l = [2,3,6,9,7,12,13,15,17,18,63,27,60,72,259,312,299,112,125,138,363,372,452,166,179]\n",
    "\n",
    "for num in l:\n",
    "    if num % 3 == 0:\n",
    "        print(num, \"is divisible by 3\")\n",
    "    else:\n",
    "            print(num, \"is not divisible by 3\")\n",
    "            \n"
   ]
  },
  {
   "cell_type": "code",
   "execution_count": 52,
   "id": "b076c515-db34-4972-81e7-089d0ccbf71e",
   "metadata": {},
   "outputs": [],
   "source": [
    "#7"
   ]
  },
  {
   "cell_type": "code",
   "execution_count": 53,
   "id": "e54e2cf2-e205-4863-9347-eb58c8f71aa8",
   "metadata": {},
   "outputs": [
    {
     "ename": "NameError",
     "evalue": "name 'h' is not defined",
     "output_type": "error",
     "traceback": [
      "\u001b[0;31m---------------------------------------------------------------------------\u001b[0m",
      "\u001b[0;31mNameError\u001b[0m                                 Traceback (most recent call last)",
      "Cell \u001b[0;32mIn[53], line 3\u001b[0m\n\u001b[1;32m      1\u001b[0m \u001b[38;5;66;03m#mutable data types\u001b[39;00m\n\u001b[1;32m      2\u001b[0m \u001b[38;5;28mstr\u001b[39m \u001b[38;5;241m=\u001b[39m \u001b[38;5;124m\"\u001b[39m\u001b[38;5;124mHello World\u001b[39m\u001b[38;5;124m\"\u001b[39m\n\u001b[0;32m----> 3\u001b[0m \u001b[38;5;28mstr\u001b[39m[\u001b[38;5;241m0\u001b[39m] \u001b[38;5;241m=\u001b[39m \u001b[43mh\u001b[49m\n",
      "\u001b[0;31mNameError\u001b[0m: name 'h' is not defined"
     ]
    }
   ],
   "source": [
    "#imutable data types\n",
    "X = \"Hello World\"\n",
    "X[0] = h # We can not change individual charecter\n",
    "print"
   ]
  },
  {
   "cell_type": "code",
   "execution_count": null,
   "id": "04d35e98-407f-4d4c-aac8-fe6874921ee8",
   "metadata": {},
   "outputs": [],
   "source": [
    "#mutable data types\n"
   ]
  }
 ],
 "metadata": {
  "kernelspec": {
   "display_name": "Python 3 (ipykernel)",
   "language": "python",
   "name": "python3"
  },
  "language_info": {
   "codemirror_mode": {
    "name": "ipython",
    "version": 3
   },
   "file_extension": ".py",
   "mimetype": "text/x-python",
   "name": "python",
   "nbconvert_exporter": "python",
   "pygments_lexer": "ipython3",
   "version": "3.10.8"
  }
 },
 "nbformat": 4,
 "nbformat_minor": 5
}
